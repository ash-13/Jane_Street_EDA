{
  "nbformat": 4,
  "nbformat_minor": 0,
  "metadata": {
    "colab": {
      "name": "Jane Street: EDA of day 0 and feature importance.ipynb",
      "provenance": []
    },
    "kernelspec": {
      "name": "python3",
      "display_name": "Python 3"
    }
  },
  "cells": [
    {
      "cell_type": "markdown",
      "metadata": {
        "id": "qfHEZ6i4Y71w"
      },
      "source": [
        "# Copying Dataset from Kaggle"
      ]
    },
    {
      "cell_type": "code",
      "metadata": {
        "colab": {
          "base_uri": "https://localhost:8080/"
        },
        "id": "9FkQ_d8lW_T0",
        "outputId": "10a1108c-a25d-4b39-f53f-44c769346aa4"
      },
      "source": [
        "from google.colab import drive\n",
        "drive.mount('/content/gdrive')"
      ],
      "execution_count": 2,
      "outputs": [
        {
          "output_type": "stream",
          "text": [
            "Mounted at /content/gdrive\n"
          ],
          "name": "stdout"
        }
      ]
    },
    {
      "cell_type": "code",
      "metadata": {
        "id": "V_jcguFBXGow"
      },
      "source": [
        "import os\n",
        "os.environ['KAGGLE_CONFIG_DIR'] = \"/content/gdrive/My Drive/Kaggle\"\n",
        "# /content/gdrive/My Drive/Kaggle is the path where kaggle.json is present in the Google Drive"
      ],
      "execution_count": 3,
      "outputs": []
    },
    {
      "cell_type": "code",
      "metadata": {
        "colab": {
          "base_uri": "https://localhost:8080/"
        },
        "id": "wrzvTrRQXxzv",
        "outputId": "7406caee-2dfa-4b04-9a5c-dd16cfea0070"
      },
      "source": [
        "#changing the working directory\n",
        "%cd /content/gdrive/MyDrive/Kaggle\n",
        "#Check the present working directory using pwd command"
      ],
      "execution_count": 6,
      "outputs": [
        {
          "output_type": "stream",
          "text": [
            "/content/gdrive/MyDrive/Kaggle\n"
          ],
          "name": "stdout"
        }
      ]
    },
    {
      "cell_type": "code",
      "metadata": {
        "colab": {
          "base_uri": "https://localhost:8080/"
        },
        "id": "YLYSyGoDX0Xh",
        "outputId": "5163a3dc-8cb2-4b0b-f53b-a9a370aae926"
      },
      "source": [
        "!kaggle competitions download -c jane-street-market-prediction"
      ],
      "execution_count": 8,
      "outputs": [
        {
          "output_type": "stream",
          "text": [
            "Warning: Looks like you're using an outdated API Version, please consider updating (server 1.5.10 / client 1.5.4)\n",
            "Downloading __init__.py to /content/gdrive/My Drive/Kaggle\n",
            "  0% 0.00/59.0 [00:00<?, ?B/s]\n",
            "100% 59.0/59.0 [00:00<00:00, 8.02kB/s]\n",
            "Downloading competition.cpython-37m-x86_64-linux-gnu.so to /content/gdrive/My Drive/Kaggle\n",
            "  0% 0.00/441k [00:00<?, ?B/s]\n",
            "100% 441k/441k [00:00<00:00, 29.4MB/s]\n",
            "Downloading features.csv to /content/gdrive/My Drive/Kaggle\n",
            "  0% 0.00/23.3k [00:00<?, ?B/s]\n",
            "100% 23.3k/23.3k [00:00<00:00, 3.26MB/s]\n",
            "Downloading train.csv.zip to /content/gdrive/My Drive/Kaggle\n",
            "100% 2.60G/2.61G [00:32<00:00, 42.1MB/s]\n",
            "100% 2.61G/2.61G [00:32<00:00, 86.7MB/s]\n",
            "Downloading example_sample_submission.csv to /content/gdrive/My Drive/Kaggle\n",
            "  0% 0.00/108k [00:00<?, ?B/s]\n",
            "100% 108k/108k [00:00<00:00, 15.3MB/s]\n",
            "Downloading example_test.csv.zip to /content/gdrive/My Drive/Kaggle\n",
            " 55% 9.00M/16.4M [00:00<00:00, 18.3MB/s]\n",
            "100% 16.4M/16.4M [00:00<00:00, 30.4MB/s]\n"
          ],
          "name": "stdout"
        }
      ]
    },
    {
      "cell_type": "code",
      "metadata": {
        "colab": {
          "base_uri": "https://localhost:8080/"
        },
        "id": "XWeO2elLYKtS",
        "outputId": "1a57b041-5727-44e9-ecbc-2cf557c9ed26"
      },
      "source": [
        "!ls\n"
      ],
      "execution_count": 9,
      "outputs": [
        {
          "output_type": "stream",
          "text": [
            "competition.cpython-37m-x86_64-linux-gnu.so  features.csv  train.csv.zip\n",
            "example_sample_submission.csv\t\t     __init__.py\n",
            "example_test.csv.zip\t\t\t     kaggle.json\n"
          ],
          "name": "stdout"
        }
      ]
    },
    {
      "cell_type": "code",
      "metadata": {
        "colab": {
          "base_uri": "https://localhost:8080/"
        },
        "id": "eRUiey5CZDX9",
        "outputId": "a7f9698c-93ca-41ca-c05f-41f1ba20dd58"
      },
      "source": [
        "#unzipping the zip files and deleting the zip files\n",
        "!unzip \\*.zip  && rm *.zip"
      ],
      "execution_count": 10,
      "outputs": [
        {
          "output_type": "stream",
          "text": [
            "Archive:  train.csv.zip\n",
            "  inflating: train.csv               \n",
            "\n",
            "Archive:  example_test.csv.zip\n",
            "  inflating: example_test.csv        \n",
            "\n",
            "2 archives were successfully processed.\n"
          ],
          "name": "stdout"
        }
      ]
    },
    {
      "cell_type": "markdown",
      "metadata": {
        "id": "c_1kN1zAZeIO"
      },
      "source": [
        "# KEY\n",
        "* Date - Day\n",
        "* action\n",
        "  * make trade - 1 \n",
        "  * pass it on - 0\n",
        "ts_id - time ordering\n"
      ]
    },
    {
      "cell_type": "markdown",
      "metadata": {
        "id": "pPjYuRa3aKGV"
      },
      "source": [
        "# Files\n",
        "* train.csv - the training set, contains historical data and returns\n",
        "* example_test.csv - a mock test set which represents the structure of the unseen test set. You will not be directly using the test set or sample submission in this competition, as the time-series API will get/set the test set and predictions.\n",
        "* example_sample_submission.csv - a mock sample submission file in the correct format\n",
        "* features.csv - metadata pertaining to the anonymized features"
      ]
    },
    {
      "cell_type": "markdown",
      "metadata": {
        "id": "o2tCqYQKbN4S"
      },
      "source": [
        "# Importing"
      ]
    },
    {
      "cell_type": "code",
      "metadata": {
        "id": "lHkSI24fZMI6"
      },
      "source": [
        "import numpya as np\n",
        "\n",
        "import pandas as pd\n",
        "pd.set_option('display.max_rows', None)\n",
        "pd.set_option('display.max_columns',None)\n",
        "\n",
        "from pandas.plotting import lag_plot\n",
        "import matplotlib.pyplot as plt\n",
        "import seaborn as sns\n",
        "import plotly.express as px"
      ],
      "execution_count": null,
      "outputs": []
    }
  ]
}